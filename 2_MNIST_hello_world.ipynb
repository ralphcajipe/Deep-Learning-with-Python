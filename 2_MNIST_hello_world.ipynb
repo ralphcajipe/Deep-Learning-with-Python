{
  "nbformat": 4,
  "nbformat_minor": 0,
  "metadata": {
    "colab": {
      "name": "2_MNIST.ipynb",
      "provenance": [],
      "collapsed_sections": [],
      "authorship_tag": "ABX9TyPB1p7GWompIavIR2cwq3bl",
      "include_colab_link": true
    },
    "kernelspec": {
      "name": "python3",
      "display_name": "Python 3"
    },
    "language_info": {
      "name": "python"
    }
  },
  "cells": [
    {
      "cell_type": "markdown",
      "metadata": {
        "id": "view-in-github",
        "colab_type": "text"
      },
      "source": [
        "<a href=\"https://colab.research.google.com/github/ralphcajipe/Deep-Learning-with-Python-2nd-edition/blob/main/2_MNIST_hello_world.ipynb\" target=\"_parent\"><img src=\"https://colab.research.google.com/assets/colab-badge.svg\" alt=\"Open In Colab\"/></a>"
      ]
    },
    {
      "cell_type": "markdown",
      "source": [
        "# Modified National Institute of Standards and Technology dataset"
      ],
      "metadata": {
        "id": "v6-MePK2BsoK"
      }
    },
    {
      "cell_type": "markdown",
      "source": [
        "### Problem: To classify grayscale images of handwritten digits (28 x 28 pixels) into their 10 categories (0 through 9)."
      ],
      "metadata": {
        "id": "YNL0oDcACRe3"
      }
    },
    {
      "cell_type": "markdown",
      "source": [
        "**Loading the MNIST dataset in Keras**"
      ],
      "metadata": {
        "id": "4-aT9ZC60uNA"
      }
    },
    {
      "cell_type": "code",
      "execution_count": 2,
      "metadata": {
        "colab": {
          "base_uri": "https://localhost:8080/"
        },
        "id": "CpBE0wCa0GmB",
        "outputId": "1cb10092-5959-4def-a151-128a3205fa1b"
      },
      "outputs": [
        {
          "output_type": "stream",
          "name": "stdout",
          "text": [
            "Downloading data from https://storage.googleapis.com/tensorflow/tf-keras-datasets/mnist.npz\n",
            "11493376/11490434 [==============================] - 0s 0us/step\n",
            "11501568/11490434 [==============================] - 0s 0us/step\n"
          ]
        }
      ],
      "source": [
        "from tensorflow.keras.datasets import mnist\n",
        "(train_images, train_labels), (test_images, test_labels) = mnist.load_data()"
      ]
    },
    {
      "cell_type": "markdown",
      "source": [
        "**Training data:**"
      ],
      "metadata": {
        "id": "kqAviXpX1uwn"
      }
    },
    {
      "cell_type": "code",
      "source": [
        "train_images.shape"
      ],
      "metadata": {
        "colab": {
          "base_uri": "https://localhost:8080/"
        },
        "id": "5VOZkXlo1gzM",
        "outputId": "90ac145b-7dc0-4c13-b196-b941f6af1afe"
      },
      "execution_count": 3,
      "outputs": [
        {
          "output_type": "execute_result",
          "data": {
            "text/plain": [
              "(60000, 28, 28)"
            ]
          },
          "metadata": {},
          "execution_count": 3
        }
      ]
    },
    {
      "cell_type": "code",
      "source": [
        "len(train_labels)"
      ],
      "metadata": {
        "colab": {
          "base_uri": "https://localhost:8080/"
        },
        "id": "OlC_p5bn1n5c",
        "outputId": "7d5af97e-cb53-49fb-b1f0-389df185c5d9"
      },
      "execution_count": 4,
      "outputs": [
        {
          "output_type": "execute_result",
          "data": {
            "text/plain": [
              "60000"
            ]
          },
          "metadata": {},
          "execution_count": 4
        }
      ]
    },
    {
      "cell_type": "code",
      "source": [
        "train_labels"
      ],
      "metadata": {
        "colab": {
          "base_uri": "https://localhost:8080/"
        },
        "id": "ho3hRIjn1rTm",
        "outputId": "fe2393c1-7d39-4109-e43e-055f02513651"
      },
      "execution_count": 5,
      "outputs": [
        {
          "output_type": "execute_result",
          "data": {
            "text/plain": [
              "array([5, 0, 4, ..., 5, 6, 8], dtype=uint8)"
            ]
          },
          "metadata": {},
          "execution_count": 5
        }
      ]
    },
    {
      "cell_type": "markdown",
      "source": [
        "**Test data:**"
      ],
      "metadata": {
        "id": "HCQBWSXQ1z9U"
      }
    },
    {
      "cell_type": "code",
      "source": [
        "test_images.shape"
      ],
      "metadata": {
        "colab": {
          "base_uri": "https://localhost:8080/"
        },
        "id": "zGsRBCBs16bf",
        "outputId": "31c7faea-2bf8-45df-dd32-e1d5846f77c3"
      },
      "execution_count": 6,
      "outputs": [
        {
          "output_type": "execute_result",
          "data": {
            "text/plain": [
              "(10000, 28, 28)"
            ]
          },
          "metadata": {},
          "execution_count": 6
        }
      ]
    },
    {
      "cell_type": "code",
      "source": [
        "len(test_labels)"
      ],
      "metadata": {
        "colab": {
          "base_uri": "https://localhost:8080/"
        },
        "id": "j9fZLoZJ1-OL",
        "outputId": "2f218519-9b00-44cc-b7d2-d61cf4733e0a"
      },
      "execution_count": 7,
      "outputs": [
        {
          "output_type": "execute_result",
          "data": {
            "text/plain": [
              "10000"
            ]
          },
          "metadata": {},
          "execution_count": 7
        }
      ]
    },
    {
      "cell_type": "code",
      "source": [
        "test_labels"
      ],
      "metadata": {
        "colab": {
          "base_uri": "https://localhost:8080/"
        },
        "id": "sQ4zfzi02BjP",
        "outputId": "316cfd97-f61e-4d09-f7cf-f885f0a034a1"
      },
      "execution_count": 8,
      "outputs": [
        {
          "output_type": "execute_result",
          "data": {
            "text/plain": [
              "array([7, 2, 1, ..., 4, 5, 6], dtype=uint8)"
            ]
          },
          "metadata": {},
          "execution_count": 8
        }
      ]
    },
    {
      "cell_type": "markdown",
      "source": [
        "**The network architecture**"
      ],
      "metadata": {
        "id": "Z6hAbpaV2PQ0"
      }
    },
    {
      "cell_type": "code",
      "source": [
        "from tensorflow import keras\n",
        "from tensorflow.keras import layers\n",
        "model = keras.Sequential([\n",
        "    layers.Dense(512, activation=\"relu\"),\n",
        "    layers.Dense(10, activation=\"softmax\")\n",
        "])"
      ],
      "metadata": {
        "id": "3AsCuuZd2UNZ"
      },
      "execution_count": 9,
      "outputs": []
    },
    {
      "cell_type": "markdown",
      "source": [
        "**The compilation step**"
      ],
      "metadata": {
        "id": "ZWzsjtbk3hcZ"
      }
    },
    {
      "cell_type": "code",
      "source": [
        "model.compile(optimizer=\"rmsprop\",\n",
        "              loss=\"sparse_categorical_crossentropy\",\n",
        "              metrics=[\"accuracy\"])"
      ],
      "metadata": {
        "id": "ksSW2GOB3wXt"
      },
      "execution_count": 11,
      "outputs": []
    },
    {
      "cell_type": "markdown",
      "source": [
        "**Preparing the image data**"
      ],
      "metadata": {
        "id": "xJAN6Z904tS7"
      }
    },
    {
      "cell_type": "code",
      "source": [
        "train_images = train_images.reshape((60000, 28 * 28))\n",
        "train_images = train_images.astype(\"float32\") / 255\n",
        "test_images = test_images.reshape((10000, 28 * 28))\n",
        "test_images = test_images.astype(\"float32\") / 255"
      ],
      "metadata": {
        "id": "_zIb1tcK4xim"
      },
      "execution_count": 13,
      "outputs": []
    },
    {
      "cell_type": "markdown",
      "source": [
        "**\"Fitting\" the deep learning model**"
      ],
      "metadata": {
        "id": "yarPJLds5rxC"
      }
    },
    {
      "cell_type": "code",
      "source": [
        "model.fit(train_images, train_labels, epochs=5, batch_size=128)"
      ],
      "metadata": {
        "colab": {
          "base_uri": "https://localhost:8080/"
        },
        "id": "DeF_pw9V5wdm",
        "outputId": "aa9436b3-a331-42f3-971a-7d3aa47c8a31"
      },
      "execution_count": 14,
      "outputs": [
        {
          "output_type": "stream",
          "name": "stdout",
          "text": [
            "Epoch 1/5\n",
            "469/469 [==============================] - 6s 11ms/step - loss: 0.2562 - accuracy: 0.9262\n",
            "Epoch 2/5\n",
            "469/469 [==============================] - 5s 11ms/step - loss: 0.1037 - accuracy: 0.9688\n",
            "Epoch 3/5\n",
            "469/469 [==============================] - 5s 11ms/step - loss: 0.0684 - accuracy: 0.9791\n",
            "Epoch 4/5\n",
            "469/469 [==============================] - 5s 11ms/step - loss: 0.0501 - accuracy: 0.9847\n",
            "Epoch 5/5\n",
            "469/469 [==============================] - 5s 11ms/step - loss: 0.0370 - accuracy: 0.9887\n"
          ]
        },
        {
          "output_type": "execute_result",
          "data": {
            "text/plain": [
              "<keras.callbacks.History at 0x7fdca653e150>"
            ]
          },
          "metadata": {},
          "execution_count": 14
        }
      ]
    },
    {
      "cell_type": "markdown",
      "source": [
        "Training-set accuracy: 98.9%"
      ],
      "metadata": {
        "id": "hSIqeL_R_VnA"
      }
    },
    {
      "cell_type": "markdown",
      "source": [
        "**Using the deep learning model to make predictions**"
      ],
      "metadata": {
        "id": "xq_Juelj6oRm"
      }
    },
    {
      "cell_type": "code",
      "source": [
        "test_digits = test_images[0:10]\n",
        "predictions = model.predict(test_digits)\n",
        "predictions[0]"
      ],
      "metadata": {
        "colab": {
          "base_uri": "https://localhost:8080/"
        },
        "id": "3I4XhBAw6vAA",
        "outputId": "071e9a3c-c807-4749-9d3d-55f186966488"
      },
      "execution_count": 15,
      "outputs": [
        {
          "output_type": "execute_result",
          "data": {
            "text/plain": [
              "array([2.5092247e-08, 3.9475909e-10, 1.3601459e-06, 1.8806270e-05,\n",
              "       8.2402600e-12, 2.9451694e-08, 1.7941699e-14, 9.9997592e-01,\n",
              "       1.9641561e-08, 3.8495537e-06], dtype=float32)"
            ]
          },
          "metadata": {},
          "execution_count": 15
        }
      ]
    },
    {
      "cell_type": "markdown",
      "source": [
        "Eeach number of index `i` in that array corresponds to the probability that digit image `test_digits[0]` belongs to class `i`."
      ],
      "metadata": {
        "id": "w3b_aiWgC84t"
      }
    },
    {
      "cell_type": "markdown",
      "source": [
        "This first test digit has the highest probability score (0.9999759, almost 1) at index 7, so according to our model, it must be a number 7:"
      ],
      "metadata": {
        "id": "j2aFW4K2EA3l"
      }
    },
    {
      "cell_type": "code",
      "source": [
        "predictions[0].argmax()"
      ],
      "metadata": {
        "colab": {
          "base_uri": "https://localhost:8080/"
        },
        "id": "ALH2kJch7n0Y",
        "outputId": "03af4246-f493-4ea5-a0f5-22a49c513807"
      },
      "execution_count": 21,
      "outputs": [
        {
          "output_type": "execute_result",
          "data": {
            "text/plain": [
              "7"
            ]
          },
          "metadata": {},
          "execution_count": 21
        }
      ]
    },
    {
      "cell_type": "code",
      "source": [
        "predictions[0][7]"
      ],
      "metadata": {
        "colab": {
          "base_uri": "https://localhost:8080/"
        },
        "id": "S3-X3Yc077OJ",
        "outputId": "ac3427cc-eb71-44d9-d716-45f6ab3eb73a"
      },
      "execution_count": 33,
      "outputs": [
        {
          "output_type": "execute_result",
          "data": {
            "text/plain": [
              "0.9999759"
            ]
          },
          "metadata": {},
          "execution_count": 33
        }
      ]
    },
    {
      "cell_type": "code",
      "source": [
        "print(f\"{predictions[0][7]:.1%}\")"
      ],
      "metadata": {
        "colab": {
          "base_uri": "https://localhost:8080/"
        },
        "id": "r_EPgTR5-rTu",
        "outputId": "d0b736a3-028f-4f16-f031-bd4af2418e69"
      },
      "execution_count": 35,
      "outputs": [
        {
          "output_type": "stream",
          "name": "stdout",
          "text": [
            "100.0%\n"
          ]
        }
      ]
    },
    {
      "cell_type": "markdown",
      "source": [
        "**Check that the test label agrees:**"
      ],
      "metadata": {
        "id": "MCD_kv4E8I09"
      }
    },
    {
      "cell_type": "code",
      "source": [
        "test_labels[0]"
      ],
      "metadata": {
        "colab": {
          "base_uri": "https://localhost:8080/"
        },
        "id": "8YdNUsYN8OAs",
        "outputId": "247aa343-f5bd-4c99-9c0b-4e2c99835b85"
      },
      "execution_count": 22,
      "outputs": [
        {
          "output_type": "execute_result",
          "data": {
            "text/plain": [
              "7"
            ]
          },
          "metadata": {},
          "execution_count": 22
        }
      ]
    },
    {
      "cell_type": "markdown",
      "source": [
        "It's really a number 7!"
      ],
      "metadata": {
        "id": "B_zWwjO0CvVH"
      }
    },
    {
      "cell_type": "markdown",
      "source": [
        "**Evaluating the model on new data**"
      ],
      "metadata": {
        "id": "PBaiptlI8gGX"
      }
    },
    {
      "cell_type": "code",
      "source": [
        "test_loss, test_acc = model.evaluate(test_images, test_labels)\n",
        "print(f\"test_acc: {test_acc}\")\n",
        "print(f\"{test_acc:.1%}\")"
      ],
      "metadata": {
        "colab": {
          "base_uri": "https://localhost:8080/"
        },
        "id": "6ihxGXC88j1z",
        "outputId": "38dc9d54-bc0c-40f9-e08a-582e586d5866"
      },
      "execution_count": 36,
      "outputs": [
        {
          "output_type": "stream",
          "name": "stdout",
          "text": [
            "313/313 [==============================] - 1s 3ms/step - loss: 0.0685 - accuracy: 0.9804\n",
            "test_acc: 0.980400025844574\n",
            "98.0%\n"
          ]
        }
      ]
    },
    {
      "cell_type": "markdown",
      "source": [
        "Test-set accuracy: 98.0%"
      ],
      "metadata": {
        "id": "ZImHpDxC_itu"
      }
    }
  ]
}